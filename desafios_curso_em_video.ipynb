{
  "nbformat": 4,
  "nbformat_minor": 0,
  "metadata": {
    "colab": {
      "name": "desafios curso em video.ipynb",
      "provenance": [],
      "collapsed_sections": [],
      "authorship_tag": "ABX9TyMfPTYspoEQNBRbvxwINmy2",
      "include_colab_link": true
    },
    "kernelspec": {
      "name": "python3",
      "display_name": "Python 3"
    },
    "language_info": {
      "name": "python"
    }
  },
  "cells": [
    {
      "cell_type": "markdown",
      "metadata": {
        "id": "view-in-github",
        "colab_type": "text"
      },
      "source": [
        "<a href=\"https://colab.research.google.com/github/IgorDaniel182/Curso-em-Video/blob/main/desafios_curso_em_video.ipynb\" target=\"_parent\"><img src=\"https://colab.research.google.com/assets/colab-badge.svg\" alt=\"Open In Colab\"/></a>"
      ]
    },
    {
      "cell_type": "code",
      "metadata": {
        "colab": {
          "base_uri": "https://localhost:8080/"
        },
        "id": "aVDjEJofJP8A",
        "outputId": "81a614dd-1382-4155-d8c6-f36064fff1f1"
      },
      "source": [
        "nome = input('Escreva seu nome:')\n",
        "print('Olá!', nome , 'Prazer em te conhecer')"
      ],
      "execution_count": null,
      "outputs": [
        {
          "output_type": "stream",
          "text": [
            "Escreva seu nome:Ana\n",
            "Olá! Ana Prazer em te conhecer\n"
          ],
          "name": "stdout"
        }
      ]
    },
    {
      "cell_type": "code",
      "metadata": {
        "colab": {
          "base_uri": "https://localhost:8080/"
        },
        "id": "4w2JDrLdKWD5",
        "outputId": "3561185f-8240-4fe8-ad52-2e22357d7087"
      },
      "source": [
        "dia = input('Digite o dia em que você nasceu:')\n",
        "mes = input('Digite o mes em que voce nasceu:')\n",
        "ano = input('Digite o ano em que voce nasceu:')\n",
        "print('Você nasceu no dia {} do mes {} do ano {}, correto?'.format(dia ,mes ,ano))"
      ],
      "execution_count": null,
      "outputs": [
        {
          "output_type": "stream",
          "text": [
            "Digite o dia em que você nasceu:19\n",
            "Digite o mes em que voce nasceu:03\n",
            "Digite o ano em que voce nasceu:2004\n",
            "Você nasceu no dia 19 do mes 03 do ano 2004, correto?\n"
          ],
          "name": "stdout"
        }
      ]
    },
    {
      "cell_type": "code",
      "metadata": {
        "id": "9UTQFsHKLdqC"
      },
      "source": [
        "n1 = int(input('Digite um número:'))\n",
        "n2 = int(input('Digite mais um número:'))\n",
        "s = n1+n2\n",
        "print('A soma vale:', s)"
      ],
      "execution_count": null,
      "outputs": []
    },
    {
      "cell_type": "code",
      "metadata": {
        "id": "_IKcwYwTaqpt"
      },
      "source": [
        "n1 = int(input('Digite um número:'))\n",
        "n2 = int(input('Digite mais um número:'))\n",
        "s = n1+n2\n",
        "#print('A soma entre', n1 , 'e' , n2 ,'é:', s )\n",
        "print('A soma entre {} e {} é {}'.format(n1, n2, s))"
      ],
      "execution_count": null,
      "outputs": []
    },
    {
      "cell_type": "code",
      "metadata": {
        "id": "CwT23ZeSj0Sw"
      },
      "source": [
        "n1 = int(input('Digite um numero:'))\n",
        "n2 = int(input('Digite outro numero:'))\n",
        "s = n1+n2\n",
        "print('A soma dos seus numeros é:' , s,)"
      ],
      "execution_count": null,
      "outputs": []
    },
    {
      "cell_type": "code",
      "metadata": {
        "id": "tbeBFLGAkvzm"
      },
      "source": [
        "n = input('digite algo:')\n",
        "print('oque você colocou é algo:' ,n.isupper(), 'em relacao a ser maiusculo') \n",
        "print('oque você colocou é algo:' ,n.isalnum(), 'em relacao a ser numero')\n"
      ],
      "execution_count": null,
      "outputs": []
    },
    {
      "cell_type": "code",
      "metadata": {
        "id": "CDItlGQgmiJ_",
        "colab": {
          "base_uri": "https://localhost:8080/"
        },
        "outputId": "abd0a0f7-b453-44c5-ea52-6d0b02c5476f"
      },
      "source": [
        "#desafio 5\n",
        "n = int(input('digite um numero inteiro: '))\n",
        "n1 = n+1\n",
        "n2 = n-1\n",
        "print('O sucessor do número escolhido é {} e o antecessor do número escolhido é {}'.format(n1, n2))"
      ],
      "execution_count": null,
      "outputs": [
        {
          "output_type": "stream",
          "text": [
            "digite um numero inteiro: 1\n",
            "O sucessor do número escolhido é 2 e o antecessor do número escolhido é 0\n"
          ],
          "name": "stdout"
        }
      ]
    },
    {
      "cell_type": "code",
      "metadata": {
        "id": "Jpmd3htZZR4N",
        "colab": {
          "base_uri": "https://localhost:8080/"
        },
        "outputId": "603dd0bf-2a92-44f8-bbb8-a2f742711f62"
      },
      "source": [
        "#desafio 6\n",
        "n = float(input('Digite um numero '))\n",
        "n1 = n*n\n",
        "n2 = n**3\n",
        "n3 = n**2\n",
        "print('O dobro do seu número é:{}, o triplo do seu número é:{} e o quadrado do seu número é:{}'.format(n1, n2, n3))"
      ],
      "execution_count": null,
      "outputs": [
        {
          "output_type": "stream",
          "text": [
            "Digite um numero 2\n",
            "O dobro do seu número é:4.0, o triplo do seu número é:8.0 e o quadrado do seu número é:4.0\n"
          ],
          "name": "stdout"
        }
      ]
    },
    {
      "cell_type": "code",
      "metadata": {
        "colab": {
          "base_uri": "https://localhost:8080/"
        },
        "id": "05DUKsCpKZGM",
        "outputId": "968e98d3-7787-444b-c457-680637f4693c"
      },
      "source": [
        "#desafio 7\n",
        "n1 = float(input('Digite sua primeira nota: '))\n",
        "n2 = float(input('Digite sua segunda nota: '))\n",
        "s = n1+n2\n",
        "d = s/2\n",
        "print('A sua nota é: {}'.format(d))"
      ],
      "execution_count": null,
      "outputs": [
        {
          "output_type": "stream",
          "text": [
            "Digite sua primeira nota: 7\n",
            "Digite sua segunda nota: 7\n",
            "A sua nota é: 7.0\n"
          ],
          "name": "stdout"
        }
      ]
    },
    {
      "cell_type": "code",
      "metadata": {
        "colab": {
          "base_uri": "https://localhost:8080/"
        },
        "id": "Z6G5og_ELGTs",
        "outputId": "e77b5c76-7d84-4687-c160-51aec41b0974"
      },
      "source": [
        "#desafio 8\n",
        "n = float(input('digite um numero em metros: '))\n",
        "n1 = n*100\n",
        "n2 = n*1000\n",
        "print('O numero transformado para centímetros é {} e o transformado em milimetros é {}'.format(n1,n2)) "
      ],
      "execution_count": null,
      "outputs": [
        {
          "output_type": "stream",
          "text": [
            "digite um numero em metros: 1\n",
            "O numero transformado para centímetros é 100.0 e o transformado em milimetros é 1000.0\n"
          ],
          "name": "stdout"
        }
      ]
    },
    {
      "cell_type": "code",
      "metadata": {
        "colab": {
          "base_uri": "https://localhost:8080/"
        },
        "id": "0MRhzoq3ROaI",
        "outputId": "709998c1-e1f9-4d13-9000-f1eae54d5656"
      },
      "source": [
        "#desafio 9\n",
        "n = int(input('Digite um número: '))\n",
        "n0 = n*0\n",
        "n1 = n*1\n",
        "n2 = n*2\n",
        "n3 = n*3\n",
        "n4 = n*4\n",
        "n5 = n*5\n",
        "n6 = n*6\n",
        "n7 = n*7\n",
        "n8 = n*8\n",
        "n9 = n*9\n",
        "n10 = n*10\n",
        "print('A tabuada do seu numero é:{},{},{},{},{},{},{},{},{},{}'.format(n0,n1,n2,n3,n4,n5,n6,n7,n8,n9,n10))"
      ],
      "execution_count": null,
      "outputs": [
        {
          "output_type": "stream",
          "text": [
            "Digite um número: 2\n",
            "A tabuada do seu numero é:0,2,4,6,8,10,12,14,16,18\n"
          ],
          "name": "stdout"
        }
      ]
    },
    {
      "cell_type": "code",
      "metadata": {
        "colab": {
          "base_uri": "https://localhost:8080/"
        },
        "id": "-xAWvSJ7SVV4",
        "outputId": "b7e5191a-714e-4ca6-969c-4ff055f45339"
      },
      "source": [
        "#desafio 10\n",
        "n = float(input('Quanto de dinheiro você tem na sua carteira? '))\n",
        "n1 = n*3.37\n",
        "print('Em dólares, o dinheiro que você tem é:',s,'Dólares')"
      ],
      "execution_count": null,
      "outputs": [
        {
          "output_type": "stream",
          "text": [
            "Quanto de dinheiro você tem na sua carteira? 2\n",
            "Em dólares, o dinheiro que você tem é: 14.0 Dólares\n"
          ],
          "name": "stdout"
        }
      ]
    },
    {
      "cell_type": "code",
      "metadata": {
        "colab": {
          "base_uri": "https://localhost:8080/"
        },
        "id": "vvkKCAqtTNpS",
        "outputId": "9f19e183-4df6-4c9a-aa0b-b085eee3a6af"
      },
      "source": [
        "#desafio 11\n",
        "n1 = float(input('Qual a medida da largura do objeto que você quer a área? '))\n",
        "n2 = float(input('Qual a medida da altura do objeto que você quer a área? '))\n",
        "a = n1*n2\n",
        "l = a/2\n",
        "print('A quantidade litros que você vai precisar de tinta para pintar toda a área é de: ', l)\n"
      ],
      "execution_count": null,
      "outputs": [
        {
          "output_type": "stream",
          "text": [
            "Qual a medida da largura do objeto que você quer a área? 10\n",
            "Qual a medida da altura do objeto que você quer a área? 10\n",
            "A quantidade litros que você vai precisar de tinta para pintar toda a área é de:  50.0\n"
          ],
          "name": "stdout"
        }
      ]
    },
    {
      "cell_type": "code",
      "metadata": {
        "colab": {
          "base_uri": "https://localhost:8080/"
        },
        "id": "nREqecdTUpoS",
        "outputId": "789cc8e5-e2ec-4a98-f638-c4d3377df58d"
      },
      "source": [
        "#desafio 12\n",
        "n = float(input('Digite o preço de algum produto: ')) \n",
        "n1 = n*5\n",
        "n2 = n1/100\n",
        "n3 = n-n2\n",
        "print('O preco do produto com desconto de 5% é de: {} reais'.format(n3))"
      ],
      "execution_count": null,
      "outputs": [
        {
          "output_type": "stream",
          "text": [
            "Digite o preço de algum produto: 100\n",
            "O preco do produto com desconto de 5% é de: 95.0 reais\n"
          ],
          "name": "stdout"
        }
      ]
    },
    {
      "cell_type": "code",
      "metadata": {
        "colab": {
          "base_uri": "https://localhost:8080/"
        },
        "id": "tSn2dCCCVxcP",
        "outputId": "01da50fc-0d49-43ef-9a5c-5aebc7bf2f60"
      },
      "source": [
        "#desafio 13\n",
        "n = float(input('Digite seu salário: '))\n",
        "n1 = n*15\n",
        "n2 = n1/100\n",
        "n3 = n+n2\n",
        "print('O seu salário com 15% de aumento, é de:',n3)"
      ],
      "execution_count": null,
      "outputs": [
        {
          "output_type": "stream",
          "text": [
            "Digite seu salário: 11.100\n",
            "O seu salário com 15% de aumento, é de: 12.765\n"
          ],
          "name": "stdout"
        }
      ]
    },
    {
      "cell_type": "code",
      "metadata": {
        "colab": {
          "base_uri": "https://localhost:8080/"
        },
        "id": "RGcA1osQp4Wa",
        "outputId": "45309937-5545-444d-96d0-e562742eaeb7"
      },
      "source": [
        "#Conversor de temperatura \n",
        "celsius = float(input(\"Digite a temperatura em Celsius: \"))\n",
        "fahrenheit = ((9 * celsius)/5)+32\n",
        "print(\"A temperatura transformada para Fahrenheit é: \" , fahrenheit )"
      ],
      "execution_count": 2,
      "outputs": [
        {
          "output_type": "stream",
          "name": "stdout",
          "text": [
            "Digite a temperatura em Celsius: 35\n",
            "A temperatura transformada para Fahrenheit é:  95.0\n"
          ]
        }
      ]
    },
    {
      "cell_type": "code",
      "metadata": {
        "colab": {
          "base_uri": "https://localhost:8080/"
        },
        "id": "u9-UmclqsJe6",
        "outputId": "28e15222-53c1-448f-8df8-e5619739d07f"
      },
      "source": [
        "#De uma forma mais complexa:\n",
        "# km = float(input(\"Quantos KM´s foram rodados durante o uso do carro? \"))\n",
        "#dias = int(input(\"Quantos dias o carro foi alugado? \")) \n",
        "#dia = 60 * dias\n",
        "#kms = 0.15 * km\n",
        "#total = dia + kms\n",
        "#print(\"Você deve pagar:\", total , \"pelo uso do carro nesses dias e km´s rodados\")\n",
        "\n",
        "\n",
        "#De uma forma simplificada: \n",
        "km = float(input(\"Quantos KM´s foram rodados durante o uso do carro? \"))\n",
        "dias = int(input(\"Quantos dias o carro foi alugado? \"))\n",
        "pago = (60 * dias) + (0.15 * km)\n",
        "print(\"Você deve pagar: R${:.2f}\" .format(pago))"
      ],
      "execution_count": 13,
      "outputs": [
        {
          "output_type": "stream",
          "name": "stdout",
          "text": [
            "Quantos KM´s foram rodados durante o uso do carro? 200\n",
            "Quantos dias o carro foi alugado? 2\n",
            "Você deve pagar: R$150.00\n"
          ]
        }
      ]
    },
    {
      "cell_type": "code",
      "metadata": {
        "colab": {
          "base_uri": "https://localhost:8080/"
        },
        "id": "XqTcj-9awl_m",
        "outputId": "e838a3f9-34ce-43c1-e37f-2d7369675641"
      },
      "source": [
        "#Do meu modo:\n",
        "#real = float(input(\"Digite um número: \"))\n",
        "#inteiro = real // 1 \n",
        "#print(\"Seu número inteiro é: {}\".format(inteiro))\n",
        "from math import ceil   "
      ],
      "execution_count": 17,
      "outputs": [
        {
          "output_type": "stream",
          "name": "stdout",
          "text": [
            "Digite um número: 21.2133\n",
            "Seu número inteiro é: 21.0\n"
          ]
        }
      ]
    }
  ]
}