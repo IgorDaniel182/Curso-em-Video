{
  "nbformat": 4,
  "nbformat_minor": 0,
  "metadata": {
    "colab": {
      "name": "Manipulando Texto .Curso em vídeo",
      "provenance": [],
      "authorship_tag": "ABX9TyNZBUa4VNTxynkks9NI1nxl",
      "include_colab_link": true
    },
    "kernelspec": {
      "name": "python3",
      "display_name": "Python 3"
    },
    "language_info": {
      "name": "python"
    }
  },
  "cells": [
    {
      "cell_type": "markdown",
      "metadata": {
        "id": "view-in-github",
        "colab_type": "text"
      },
      "source": [
        "<a href=\"https://colab.research.google.com/github/IgorDaniel182/Curso-em-Video/blob/main/Manipulando_Texto_Curso_em_v%C3%ADdeo.ipynb\" target=\"_parent\"><img src=\"https://colab.research.google.com/assets/colab-badge.svg\" alt=\"Open In Colab\"/></a>"
      ]
    },
    {
      "cell_type": "markdown",
      "metadata": {
        "id": "IuzSMw0c_Chw"
      },
      "source": [
        "Exemplos De **Fatiamento**"
      ]
    },
    {
      "cell_type": "code",
      "metadata": {
        "id": "jtHQuBV35i2q"
      },
      "source": [
        "frase = \"Curso em Vídeo Python\"\n",
        "print(frase[9])"
      ],
      "execution_count": null,
      "outputs": []
    },
    {
      "cell_type": "code",
      "metadata": {
        "id": "bI38u0ns9waX"
      },
      "source": [
        "frase = \"Curso em Vídeo Python\"\n",
        "print(frase[9:13])"
      ],
      "execution_count": null,
      "outputs": []
    },
    {
      "cell_type": "code",
      "metadata": {
        "id": "QBR-YwJQ-Wqb"
      },
      "source": [
        "frase = \"Curso em Vídeo Python\"\n",
        "print(frase[9:21:2])"
      ],
      "execution_count": null,
      "outputs": []
    },
    {
      "cell_type": "code",
      "metadata": {
        "id": "ItgSGcN7-gkl"
      },
      "source": [
        "frase = \"Curso em Vídeo Python\"\n",
        "print(frase[:5])"
      ],
      "execution_count": null,
      "outputs": []
    },
    {
      "cell_type": "code",
      "metadata": {
        "id": "Ve4ZA2iR-xux"
      },
      "source": [
        "frase = \"Curso em Vídeo Python\"\n",
        "print(frase[15:])"
      ],
      "execution_count": null,
      "outputs": []
    },
    {
      "cell_type": "code",
      "metadata": {
        "id": "svRC-LyU--U0"
      },
      "source": [
        "frase = \"Curso em Vídeo Python\"\n",
        "print(frase[9::3])"
      ],
      "execution_count": null,
      "outputs": []
    },
    {
      "cell_type": "markdown",
      "metadata": {
        "id": "E3CUB_kb_SJT"
      },
      "source": [
        "Exemplos de **Análise**"
      ]
    },
    {
      "cell_type": "code",
      "metadata": {
        "id": "kAHkVr06_VqZ"
      },
      "source": [
        "frase = \"Curso em Vídeo Python\"\n",
        "len(frase)\n",
        "#len: mostra o comprimento da frase "
      ],
      "execution_count": null,
      "outputs": []
    },
    {
      "cell_type": "code",
      "metadata": {
        "id": "ivE9laug_ot-"
      },
      "source": [
        "frase = \"Curso em Vídeo Python\"\n",
        "frase.count(\"o\")\n",
        "#Conta quantas vezes existe o caractere que estiver dentro do () em .count()"
      ],
      "execution_count": null,
      "outputs": []
    },
    {
      "cell_type": "code",
      "metadata": {
        "colab": {
          "base_uri": "https://localhost:8080/"
        },
        "id": "Or1U5xcGAGHJ",
        "outputId": "894c4154-6172-4e4d-88f4-503bb0167232"
      },
      "source": [
        "frase = \"Curso em Vídeo Python\"\n",
        "print(frase.count(\"o\",0,13))\n",
        "#Aqui também usa a parte de fatiamento junto com Análise e o .count\n",
        "#Mostra quantas vezes a letra \"o\" apareceu"
      ],
      "execution_count": null,
      "outputs": [
        {
          "output_type": "stream",
          "name": "stdout",
          "text": [
            "1\n"
          ]
        }
      ]
    },
    {
      "cell_type": "code",
      "metadata": {
        "colab": {
          "base_uri": "https://localhost:8080/"
        },
        "id": "jEV7GkDgAqXk",
        "outputId": "03fb067d-0446-4dca-9010-c49c8956f1f4"
      },
      "source": [
        "frase = \"Curso em Vídeo Python\"\n",
        "frase.find(\"deo\")\n",
        "#Mostra em que posição começou o que estiver dentro do ()"
      ],
      "execution_count": null,
      "outputs": [
        {
          "output_type": "execute_result",
          "data": {
            "text/plain": [
              "11"
            ]
          },
          "metadata": {},
          "execution_count": 10
        }
      ]
    }
  ]
}